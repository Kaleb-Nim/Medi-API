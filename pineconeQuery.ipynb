{
 "cells": [
  {
   "cell_type": "markdown",
   "metadata": {},
   "source": []
  },
  {
   "cell_type": "code",
   "execution_count": 1,
   "metadata": {},
   "outputs": [
    {
     "name": "stderr",
     "output_type": "stream",
     "text": [
      "c:\\Users\\stu-kalebnim\\Documents\\GitHub\\Medi-API\\env\\lib\\site-packages\\pinecone\\index.py:4: TqdmWarning: IProgress not found. Please update jupyter and ipywidgets. See https://ipywidgets.readthedocs.io/en/stable/user_install.html\n",
      "  from tqdm.autonotebook import tqdm\n"
     ]
    }
   ],
   "source": [
    "from dotenv import load_dotenv\n",
    "import pinecone\n",
    "import openai\n",
    "import os\n",
    "import json\n",
    "from time import time \n",
    "import tqdm\n",
    "# Typing\n",
    "from typing import List, Dict, Any, Optional, Union, Tuple\n",
    "\n",
    "from langchain.embeddings import OpenAIEmbeddings\n",
    "from langchain.text_splitter import RecursiveCharacterTextSplitter\n",
    "from pinecone.index import Index\n",
    "from pinecone.index import UpsertResponse\n",
    "\n",
    "# Data processing stuff\n",
    "import pandas as pd\n",
    "\n",
    "from PineconeUtils.Indexer import Indexer,DataEmbedding\n"
   ]
  },
  {
   "cell_type": "code",
   "execution_count": 3,
   "metadata": {},
   "outputs": [
    {
     "name": "stdout",
     "output_type": "stream",
     "text": [
      "PINECONE_API_KEY,PINECONE_ENVIRONMENT,INDEX_NAME:  3efa3801-3d5d-4f24-8259-1d9dc446478d gcp-starter namchat\n"
     ]
    }
   ],
   "source": [
    "load_dotenv()\n",
    "PINECONE_API_KEY,PINECONE_ENVIRONMENT,INDEX_NAME = os.getenv(\"PINECONE_API_KEY\"),os.getenv(\"PINECONE_ENVIRONMENT\"),os.getenv(\"PINECONE_INDEX_NAME\")\n",
    "print('PINECONE_API_KEY,PINECONE_ENVIRONMENT,INDEX_NAME: ', PINECONE_API_KEY,PINECONE_ENVIRONMENT,INDEX_NAME)"
   ]
  },
  {
   "cell_type": "code",
   "execution_count": 2,
   "metadata": {},
   "outputs": [
    {
     "ename": "NameError",
     "evalue": "name 'PINECONE_API_KEY' is not defined",
     "output_type": "error",
     "traceback": [
      "\u001b[1;31m---------------------------------------------------------------------------\u001b[0m",
      "\u001b[1;31mNameError\u001b[0m                                 Traceback (most recent call last)",
      "\u001b[1;32mc:\\Users\\stu-kalebnim\\Documents\\GitHub\\Medi-API\\pineconeQuery.ipynb Cell 3\u001b[0m line \u001b[0;36m8\n\u001b[0;32m     <a href='vscode-notebook-cell:/c%3A/Users/stu-kalebnim/Documents/GitHub/Medi-API/pineconeQuery.ipynb#W0sZmlsZQ%3D%3D?line=82'>83</a>\u001b[0m         \u001b[39mreturn\u001b[39;00m matched_docs\n\u001b[0;32m     <a href='vscode-notebook-cell:/c%3A/Users/stu-kalebnim/Documents/GitHub/Medi-API/pineconeQuery.ipynb#W0sZmlsZQ%3D%3D?line=85'>86</a>\u001b[0m \u001b[39m# Test the class\u001b[39;00m\n\u001b[1;32m---> <a href='vscode-notebook-cell:/c%3A/Users/stu-kalebnim/Documents/GitHub/Medi-API/pineconeQuery.ipynb#W0sZmlsZQ%3D%3D?line=86'>87</a>\u001b[0m pineconeQuery \u001b[39m=\u001b[39m PineconeQuery(PINECONE_API_KEY,PINECONE_ENVIRONMENT,INDEX_NAME)\n",
      "\u001b[1;31mNameError\u001b[0m: name 'PINECONE_API_KEY' is not defined"
     ]
    }
   ],
   "source": [
    "class PineconeQuery:\n",
    "    \"\"\"Main class to query both text/sentence/images with pinecone\"\"\"\n",
    "    embedding_model:OpenAIEmbeddings = OpenAIEmbeddings(model='text-embedding-ada-002')\n",
    "    NAMESPACES = [\"personal\",\"experience\",\"projects\",\"thoughts\"]\n",
    "\n",
    "    def _initPinecone(self,PINECONE_API_KEY:str,PINECONE_ENVIRONMENT:str,INDEX_NAME:str) -> pinecone.index:\n",
    "        \"\"\"Init Pinecone stuff\"\"\"\n",
    "\n",
    "        pinecone.init(api_key=PINECONE_API_KEY,environment=PINECONE_ENVIRONMENT)\n",
    "        # connect to index\n",
    "        index:Index = pinecone.Index(INDEX_NAME)\n",
    "        return index\n",
    "\n",
    "    def __init__(self,PINECONE_API_KEY:str,PINECONE_ENVIRONMENT:str,INDEX_NAME:str):\n",
    "        \"\"\" Initialize the Pinecone Index from .env file pinecone variables\"\"\"\n",
    "        start_time = time()\n",
    "        \n",
    "        # connect to index\n",
    "        self.index:Index = self._initPinecone(PINECONE_API_KEY,PINECONE_ENVIRONMENT,INDEX_NAME)\n",
    "        self.embedding_model:OpenAIEmbeddings = self.embedding_model\n",
    "        self.namespaces:list[str]  = [\"personal\",\"experience\",\"projects\",\"thoughts\"]\n",
    "        # Init the namespaces docsearch\n",
    "        # self.docsearch = Pinecone.from_existing_index(INDEX_NAME, embedding_model) # default namespace\n",
    "        # self.docsearch_personal = Pinecone.from_existing_index(INDEX_NAME, embedding_model, namespace=\"personal\")\n",
    "        # self.docsearch_experience = Pinecone.from_existing_index(INDEX_NAME, embedding_model, namespace=\"experience\")\n",
    "        # self.docsearch_projects = Pinecone.from_existing_index(INDEX_NAME, embedding_model, namespace=\"projects\")\n",
    "        # self.docsearch_thoughts = Pinecone.from_existing_index(INDEX_NAME, embedding_model, namespace=\"thoughts\")\n",
    "        print(f'Successfully connected to Pinecone Index:\\n{self.index.describe_index_stats()},took {time() - start_time} seconds')\n",
    "\n",
    "\n",
    "    def _checkValidNamespace(self,namespace:str) -> bool:\n",
    "        # Check if namespace is valid\n",
    "        if namespace not in self.namespaces:\n",
    "            raise Warning(f\"Namespace not found, must be one of the following {self.namespaces}. using default namespace= None\")\n",
    "        \n",
    "        return True\n",
    "    \n",
    "\n",
    "\n",
    "    def query(self,query:str,namespace:str=None,top_k:int = 3) -> list[dict]:\n",
    "        \"\"\"Select a query and fetch the results\n",
    "\n",
    "        Raises ValueError if namespace is not one of the following:\n",
    "            ValueError: Namespace must be one of the following ['personal', 'experience', 'projects', 'thoughts']\n",
    "\n",
    "        Args:\n",
    "            query (str): Query to search\n",
    "            namespace (str): Namespace to search can be one of the following\n",
    "                >personal experience, projects, thoughts\n",
    "\n",
    "        Returns:\n",
    "            list[dict]: List of matched documents, Top 3 relevant documents\n",
    "            Example matched_docs[\n",
    "                {'id': '4',\n",
    "  'score': 0.737784088,\n",
    "  'values': [],\n",
    "  'metadata': {'categories': 'personal',\n",
    "   'isImage': False,\n",
    "   'text': 'WTH ( Finalist ) Activities: NUS LifeHack 2021 ( Participant ) SUTD What The Hack: Environment 2021 ( Participant ) Appetizer Hackathon 2021 ( Participant ) SPAI Beginner Machine Learning Bootcamp 2021 SPAI Advance Machine Learning Workshop 2021 SEED Code League 2021 ( Participant ) NUS LifeHack 2022 ( Participant ) NTUtion 2022 Hackathon ( Participant ) NUS LifeHack 2023( Participant )'}},\n",
    " {'id': '2',\n",
    "  'score': 0.728767276,\n",
    "  'values': [],\n",
    "  'metadata': {'categories': 'personal',\n",
    "   'isImage': False,\n",
    "   'text': 'Activities:\\nNUS LifeHack 2021 ( Participant )\\nSUTD What The Hack: Environment 2021 ( Participant )\\nAppetizer Hackathon 2021 ( Participant )\\nSPAI Beginner Machine Learning Bootcamp 2021\\nSPAI Advance Machine Learning Workshop 2021\\nSEED Code League 2021 ( Participant )\\nNUS LifeHack 2022 ( Participant )\\nNTUtion 2022 Hackathon ( Participant )'}},\n",
    " {'id': '3',\n",
    "  'score': 0.725435615,\n",
    "  'values': [],\n",
    "  'metadata': {'categories': 'personal',\n",
    "   'isImage': False,\n",
    "   'text': 'NUS LifeHack 2023( Participant )Achievement: Polyfintech100 API Hackthon 2023 ( Champion ) Batey Hackathon 2022 ( Champion Gold ) Polyfintech100 API Hackthon 2023 ( 1st runner up ) Polyfintech 2022 ( 1st Runner-Up) DSAC AI Makerspace Holiday Challenge 2021 ( Champion ) FPG FIT Hack 2021 ( Finalist ) SUTD WTH ( Finalist ) Activities:'}}\n",
    "   ]\n",
    "        \"\"\"\n",
    "\n",
    "        query_embedding = self.embedding_model.embed_query(query)\n",
    "        # Get the top 3 results\n",
    "        results = self.index.query(query_embedding,top_k=top_k,include_metadata=True)\n",
    "        print('results: ', results)\n",
    "        \n",
    "        results_dict = results.to_dict()\n",
    "        print('results_dict: ', results_dict)\n",
    "        matched_docs = results_dict[\"matches\"]\n",
    "        return matched_docs\n",
    "\n",
    "\n",
    "# Test the class\n",
    "pineconeQuery = PineconeQuery(PINECONE_API_KEY,PINECONE_ENVIRONMENT,INDEX_NAME)"
   ]
  }
 ],
 "metadata": {
  "kernelspec": {
   "display_name": "env",
   "language": "python",
   "name": "python3"
  },
  "language_info": {
   "codemirror_mode": {
    "name": "ipython",
    "version": 3
   },
   "file_extension": ".py",
   "mimetype": "text/x-python",
   "name": "python",
   "nbconvert_exporter": "python",
   "pygments_lexer": "ipython3",
   "version": "3.10.11"
  }
 },
 "nbformat": 4,
 "nbformat_minor": 2
}
